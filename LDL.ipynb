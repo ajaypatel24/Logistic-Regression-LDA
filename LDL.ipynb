{
 "cells": [
  {
   "cell_type": "code",
   "execution_count": 1,
   "metadata": {},
   "outputs": [],
   "source": [
    "import numpy as np\n",
    "import pandas as pd"
   ]
  },
  {
   "cell_type": "code",
   "execution_count": 5,
   "metadata": {},
   "outputs": [
    {
     "ename": "SyntaxError",
     "evalue": "invalid syntax (<ipython-input-5-ce4a36fa90f3>, line 2)",
     "output_type": "error",
     "traceback": [
      "\u001b[0;36m  File \u001b[0;32m\"<ipython-input-5-ce4a36fa90f3>\"\u001b[0;36m, line \u001b[0;32m2\u001b[0m\n\u001b[0;31m    __init__():\u001b[0m\n\u001b[0m              ^\u001b[0m\n\u001b[0;31mSyntaxError\u001b[0m\u001b[0;31m:\u001b[0m invalid syntax\n"
     ]
    }
   ],
   "source": [
    "class LDL(self):\n",
    "    \n",
    "    def fit(X_train, y_train):\n",
    "        for \n",
    "        "
   ]
  },
  {
   "cell_type": "code",
   "execution_count": 28,
   "metadata": {},
   "outputs": [],
   "source": [
    "data = pd.read_csv(\"datasets/winequality-red.csv\", sep=';').astype('float32')"
   ]
  },
  {
   "cell_type": "code",
   "execution_count": 29,
   "metadata": {},
   "outputs": [],
   "source": [
    "X_train = data.iloc[:, :len(data.columns)-1]\n",
    "y_train = data.iloc[:, len(data.columns)-1:].values\n",
    "y_train = [0 if i < 6 else 1 for i in y_train]\n",
    "\n",
    "data.insert(11, \"result\", y_train)\n",
    "data = data.iloc[:, :len(data.columns)-1]"
   ]
  },
  {
   "cell_type": "code",
   "execution_count": 30,
   "metadata": {},
   "outputs": [],
   "source": [
    "u0 = data\n",
    "u0 = data.loc[data['result']==0].iloc[:, :len(u0.columns)-1]"
   ]
  },
  {
   "cell_type": "code",
   "execution_count": 31,
   "metadata": {},
   "outputs": [],
   "source": [
    "u1 = data\n",
    "u1 = data.loc[data['result']==1].iloc[:, :len(u1.columns)-1]"
   ]
  },
  {
   "cell_type": "code",
   "execution_count": 32,
   "metadata": {},
   "outputs": [],
   "source": [
    "first_class_count = float(len(u0))\n",
    "second_class_count = float(len(u1))\n",
    "\n",
    "first_class_prob = first_class_count/len(y_train)\n",
    "second_class_prob = second_class_count/len(y_train)\n",
    "\n",
    "first_average = []\n",
    "second_average = []\n",
    "for column in u0:\n",
    "    column = u0[column].values\n",
    "    first_average.append(np.mean(column))\n",
    "\n",
    "for column in u1:\n",
    "    column = u1[column].values\n",
    "    second_average.append(np.mean(column))\n",
    "\n",
    "first_average = np.transpose(np.expand_dims(first_average, axis=1))\n",
    "second_average = np.transpose(np.expand_dims(second_average, axis=1))"
   ]
  },
  {
   "cell_type": "code",
   "execution_count": null,
   "metadata": {},
   "outputs": [],
   "source": []
  },
  {
   "cell_type": "code",
   "execution_count": 33,
   "metadata": {},
   "outputs": [],
   "source": [
    "# covariance_matrix_one = (1.0 / (len(y_train)-1)) * (u0 - u0.mean(axis=0)).T.dot(u0 - u0.mean(axis=0))\n",
    "# covariance_matrix_two = (1.0 / (len(y_train)-1)) * (u1 - u1.mean(axis=0)).T.dot(u1 - u1.mean(axis=0))\n",
    "# covariance_matrix = covariance_matrix_one + covariance_matrix_two\n",
    "# covariance_matrix\n",
    "\n",
    "cov0 = np.cov(np.transpose(u0))\n",
    "cov1 = np.cov(np.transpose(u1))\n",
    "covariance_matrix = cov1 + cov0"
   ]
  },
  {
   "cell_type": "code",
   "execution_count": 34,
   "metadata": {},
   "outputs": [
    {
     "data": {
      "text/plain": [
       "array([[ 5.94243324e+00, -1.38523508e-01,  4.40178036e-01,\n",
       "         5.61683500e-01,  1.70439725e-02, -5.18323101e+00,\n",
       "        -9.88712057e+00,  4.42587866e-03, -3.63339129e-01,\n",
       "         9.36888161e-02, -3.63637985e-01],\n",
       "       [-1.38523508e-01,  5.79121592e-02, -3.48146096e-02,\n",
       "         4.34823261e-04,  4.05917473e-04, -1.26158973e-01,\n",
       "        -2.07868262e-02, -2.24852935e-05,  1.28402970e-02,\n",
       "        -1.15867800e-02, -2.17335087e-02],\n",
       "       [ 4.40178036e-01, -3.48146096e-02,  7.35793814e-02,\n",
       "         7.81292775e-02,  4.19100081e-03, -1.79349196e-01,\n",
       "         1.03793471e+00,  2.85656652e-04, -3.22852211e-02,\n",
       "         1.85181720e-02,  1.50187602e-02],\n",
       "       [ 5.61683500e-01,  4.34823261e-04,  7.81292775e-02,\n",
       "         3.97213686e+00,  7.07425572e-03,  5.62060340e+00,\n",
       "         1.89180765e+01,  1.88462062e-03, -3.67219170e-02,\n",
       "         3.81178369e-03,  1.33875839e-01],\n",
       "       [ 1.70439725e-02,  4.05917473e-04,  4.19100081e-03,\n",
       "         7.07425572e-03,  4.49969115e-03,  3.21445047e-03,\n",
       "         7.99354887e-02,  3.19934481e-05, -3.95994708e-03,\n",
       "         6.58854436e-03, -1.72972244e-02],\n",
       "       [-5.18323101e+00, -1.26158973e-01, -1.79349196e-01,\n",
       "         5.62060340e+00,  3.21445047e-03,  2.19370692e+02,\n",
       "         4.56464830e+02, -9.66670767e-04,  2.02870792e-01,\n",
       "         2.41700004e-01, -1.05127042e+00],\n",
       "       [-9.88712057e+00, -2.07868262e-02,  1.03793471e+00,\n",
       "         1.89180765e+01,  7.99354887e-02,  4.56464830e+02,\n",
       "         2.09113402e+03,  5.06495055e-03, -7.53163688e-01,\n",
       "         1.10303208e+00, -7.67086828e+00],\n",
       "       [ 4.42587866e-03, -2.24852935e-05,  2.85656652e-04,\n",
       "         1.88462062e-03,  3.19934481e-05, -9.66670767e-04,\n",
       "         5.06495055e-03,  6.82855338e-06, -1.96107799e-04,\n",
       "         1.17172251e-04, -1.65591048e-03],\n",
       "       [-3.63339129e-01,  1.28402970e-02, -3.22852211e-02,\n",
       "        -3.67219170e-02, -3.95994708e-03,  2.02870792e-01,\n",
       "        -7.53163688e-01, -1.96107799e-04,  4.76941784e-02,\n",
       "        -1.04372315e-02,  6.80819008e-02],\n",
       "       [ 9.36888161e-02, -1.15867800e-02,  1.85181720e-02,\n",
       "         3.81178369e-03,  6.58854436e-03,  2.41700004e-01,\n",
       "         1.10303208e+00,  1.17172251e-04, -1.04372315e-02,\n",
       "         5.52425648e-02, -1.06304036e-03],\n",
       "       [-3.63637985e-01, -2.17335087e-02,  1.50187602e-02,\n",
       "         1.33875839e-01, -1.72972244e-02, -1.05127042e+00,\n",
       "        -7.67086828e+00, -1.65591048e-03,  6.80819008e-02,\n",
       "        -1.06304036e-03,  1.79805166e+00]])"
      ]
     },
     "execution_count": 34,
     "metadata": {},
     "output_type": "execute_result"
    }
   ],
   "source": [
    "covariance_matrix"
   ]
  },
  {
   "cell_type": "code",
   "execution_count": 35,
   "metadata": {},
   "outputs": [],
   "source": [
    "division = second_class_prob/first_class_prob\n",
    "inv_covariance_matrix = np.linalg.inv(covariance_matrix)\n",
    "class_two = 0.5*float(np.matmul(np.matmul(second_average,inv_covariance_matrix),np.transpose(second_average)))\n",
    "class_one = 0.5*float(np.matmul(np.matmul(first_average,inv_covariance_matrix),np.transpose(first_average)))"
   ]
  },
  {
   "cell_type": "code",
   "execution_count": 37,
   "metadata": {},
   "outputs": [],
   "source": [
    "w0 = np.log(division) - class_two + class_one\n",
    "w1 = np.matmul(inv_covariance_matrix, (np.transpose(second_average)-np.transpose(first_average)))"
   ]
  },
  {
   "cell_type": "code",
   "execution_count": 42,
   "metadata": {},
   "outputs": [
    {
     "name": "stdout",
     "output_type": "stream",
     "text": [
      "0.746716697936\n"
     ]
    }
   ],
   "source": [
    "correct = 0.0\n",
    "for x,y in zip(X_train.values, y_train):\n",
    "    value = np.dot(x,w1) + w0\n",
    "    if value > 0:\n",
    "        value = 1\n",
    "    else:\n",
    "        value = 0\n",
    "    if y == value:\n",
    "        correct += 1\n",
    "    \n",
    "print(correct/len(y_train))"
   ]
  },
  {
   "cell_type": "code",
   "execution_count": 393,
   "metadata": {},
   "outputs": [],
   "source": [
    "cov0 = np.cov(np.transpose(u0))\n",
    "cov1 = np.cov(np.transpose(u1))"
   ]
  },
  {
   "cell_type": "code",
   "execution_count": 396,
   "metadata": {},
   "outputs": [
    {
     "data": {
      "text/plain": [
       "array([[ 5.92682889e+00, -1.41836588e-01,  4.38803901e-01,\n",
       "         5.24574348e-01,  1.65459789e-02, -4.66928352e+00,\n",
       "        -8.90035485e+00,  4.39947412e-03, -3.66773039e-01,\n",
       "         9.99073083e-02, -3.69216641e-01],\n",
       "       [-1.41836588e-01,  6.03089951e-02, -3.54604265e-02,\n",
       "        -1.52541134e-03,  2.79306381e-04, -1.77000389e-01,\n",
       "        -1.02376020e-01, -2.37526790e-05,  1.41037733e-02,\n",
       "        -1.17943195e-02, -1.87115961e-02],\n",
       "       [ 4.38803901e-01, -3.54604265e-02,  7.40409926e-02,\n",
       "         7.52732360e-02,  4.55760564e-03, -1.22148982e-01,\n",
       "         1.23618953e+00,  2.81300219e-04, -3.32356046e-02,\n",
       "         1.95591953e-02,  1.11823671e-02],\n",
       "       [ 5.24574348e-01, -1.52541134e-03,  7.52732360e-02,\n",
       "         3.65628146e+00,  3.27744279e-03,  4.59073015e+00,\n",
       "         1.81282202e+01,  1.64067194e-03, -3.44694085e-02,\n",
       "        -4.56616371e-03,  1.90193639e-01],\n",
       "       [ 1.65459789e-02,  2.79306381e-04,  4.55760564e-03,\n",
       "         3.27744279e-03,  4.92183037e-03, -3.70599513e-03,\n",
       "         7.21942007e-02,  3.17197774e-05, -4.22556209e-03,\n",
       "         7.31760367e-03, -1.83006179e-02],\n",
       "       [-4.66928352e+00, -1.77000389e-01, -1.22148982e-01,\n",
       "         4.59073015e+00, -3.70599513e-03,  2.18459721e+02,\n",
       "         4.60173028e+02, -9.17249904e-04,  1.61252696e-01,\n",
       "         2.54802557e-01, -1.20215771e+00],\n",
       "       [-8.90035485e+00, -1.02376020e-01,  1.23618953e+00,\n",
       "         1.81282202e+01,  7.21942007e-02,  4.60173028e+02,\n",
       "         2.14503416e+03,  5.61424105e-03, -8.86696942e-01,\n",
       "         1.02376691e+00, -8.51345271e+00],\n",
       "       [ 4.39947412e-03, -2.37526790e-05,  2.81300219e-04,\n",
       "         1.64067194e-03,  3.17197774e-05, -9.17249904e-04,\n",
       "         5.61424105e-03,  6.69782216e-06, -2.02853198e-04,\n",
       "         1.16394576e-04, -1.68762583e-03],\n",
       "       [-3.66773039e-01,  1.41037733e-02, -3.32356046e-02,\n",
       "        -3.44694085e-02, -4.22556209e-03,  1.61252696e-01,\n",
       "        -8.86696942e-01, -2.02853198e-04,  4.80868262e-02,\n",
       "        -1.15841072e-02,  7.08968484e-02],\n",
       "       [ 9.99073083e-02, -1.17943195e-02,  1.95591953e-02,\n",
       "        -4.56616371e-03,  7.31760367e-03,  2.54802557e-01,\n",
       "         1.02376691e+00,  1.16394576e-04, -1.15841072e-02,\n",
       "         5.62429809e-02, -1.79931525e-03],\n",
       "       [-3.69216641e-01, -1.87115961e-02,  1.11823671e-02,\n",
       "         1.90193639e-01, -1.83006179e-02, -1.20215771e+00,\n",
       "        -8.51345271e+00, -1.68762583e-03,  7.08968484e-02,\n",
       "        -1.79931525e-03,  1.83950575e+00]])"
      ]
     },
     "execution_count": 396,
     "metadata": {},
     "output_type": "execute_result"
    }
   ],
   "source": [
    "(cov0 + cov1)"
   ]
  },
  {
   "cell_type": "code",
   "execution_count": null,
   "metadata": {},
   "outputs": [],
   "source": []
  }
 ],
 "metadata": {
  "kernelspec": {
   "display_name": "Python 3",
   "language": "python",
   "name": "python3"
  },
  "language_info": {
   "codemirror_mode": {
    "name": "ipython",
    "version": 2
   },
   "file_extension": ".py",
   "mimetype": "text/x-python",
   "name": "python",
   "nbconvert_exporter": "python",
   "pygments_lexer": "ipython2",
   "version": "2.7.16"
  }
 },
 "nbformat": 4,
 "nbformat_minor": 2
}
