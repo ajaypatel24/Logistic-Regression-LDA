{
 "cells": [
  {
   "cell_type": "code",
   "execution_count": 3,
   "metadata": {},
   "outputs": [
    {
     "name": "stdout",
     "output_type": "stream",
     "text": [
      "3.7.1\n"
     ]
    }
   ],
   "source": [
    "import numpy as np\n",
    "import pandas as pd\n",
    "from platform import python_version\n",
    "\n",
    "print(python_version())"
   ]
  },
  {
   "cell_type": "code",
   "execution_count": 4,
   "metadata": {},
   "outputs": [],
   "source": [
    "class LDA():\n",
    "    def __init__(self):\n",
    "        self.w1 = None\n",
    "        self.w0 = None\n",
    "    \n",
    "    def fit(self, X_train, y_train):\n",
    "        data = X_train\n",
    "        data['quality'] = y_train\n",
    "        \n",
    "        u0 = data.loc[data['quality']==0].iloc[:, :len(data.columns)-1]\n",
    "        u1 = data.loc[data['quality']==1].iloc[:, :len(data.columns)-1]\n",
    "        \n",
    "        first_class_count = float(len(u0))\n",
    "        second_class_count = float(len(u1))\n",
    "        \n",
    "        first_class_prob = first_class_count/len(y_train)\n",
    "        second_class_prob = second_class_count/len(y_train)\n",
    "\n",
    "        first_average = []\n",
    "        second_average = []\n",
    "        for column in u0:\n",
    "            column = u0[column].values\n",
    "            first_average.append(np.mean(column))\n",
    "\n",
    "        for column in u1:\n",
    "            column = u1[column].values\n",
    "            second_average.append(np.mean(column))\n",
    "\n",
    "        first_average = np.transpose(np.expand_dims(first_average, axis=1))\n",
    "        second_average = np.transpose(np.expand_dims(second_average, axis=1))\n",
    "        \n",
    "        cov0 = np.cov(np.transpose(u0))\n",
    "        cov1 = np.cov(np.transpose(u1))\n",
    "        covariance_matrix = cov1 + cov0\n",
    "        \n",
    "        division = second_class_prob/first_class_prob\n",
    "        inv_covariance_matrix = np.linalg.inv(covariance_matrix)\n",
    "        class_two = 0.5*float(np.matmul(np.matmul(second_average,inv_covariance_matrix),np.transpose(second_average)))\n",
    "        class_one = 0.5*float(np.matmul(np.matmul(first_average,inv_covariance_matrix),np.transpose(first_average)))\n",
    "        \n",
    "        self.w0 = np.log(division) - class_two + class_one\n",
    "        self.w1 = np.matmul(inv_covariance_matrix, (np.transpose(second_average)-np.transpose(first_average)))\n",
    "        \n",
    "    def predict(self, X_test):\n",
    "        X_test = X_test.to_numpy()\n",
    "        return [1 if np.dot(x,self.w1) + self.w0 > 0 else 0 for x in X_test]"
   ]
  },
  {
   "cell_type": "code",
   "execution_count": 9,
   "metadata": {},
   "outputs": [
    {
     "name": "stdout",
     "output_type": "stream",
     "text": [
      "0.7498432601880878\n",
      "0.015151154825823888\n"
     ]
    },
    {
     "data": {
      "image/png": "[encoded data removed]",
      "text/plain": [
       "<Figure size 432x288 with 1 Axes>"
      ]
     },
     "metadata": {
      "needs_background": "light"
     },
     "output_type": "display_data"
    }
   ],
   "source": [
    "data = pd.read_csv(\"winequality-red.csv\", sep=';').astype('float32')\n",
    "X_train = data.iloc[:, :len(data.columns)-1]\n",
    "y_train = data.iloc[:, len(data.columns)-1:].values\n",
    "y_train = [0 if i < 6 else 1 for i in y_train]\n",
    "data['quality'] = y_train\n",
    "\n",
    "X_train_new = X_train.values\n",
    "\n",
    "new_feat = []\n",
    "for column in X_train_new:\n",
    "    new_feat.append([x**2 for x in column])\n",
    "    \n",
    "X_train_new = pd.DataFrame(X_train_new)\n",
    "new_feat = pd.DataFrame(new_feat)\n",
    "\n",
    "X_train_new = pd.concat([X_train_new, new_feat], axis=1, sort=False)\n",
    "data_new = X_train_new\n",
    "data_new['quality'] = y_train\n",
    "\n",
    "data_sub = data.drop(columns=['volatile acidity', 'citric acid', 'free sulfur dioxide','pH'])\n",
    "\n",
    "def k_fold(data, n):\n",
    "    results = []\n",
    "    results_new = []\n",
    "    fold_length = int(len(data)/5)\n",
    "    for i in range(n):\n",
    "        start = fold_length*i\n",
    "        end = start + fold_length\n",
    "        temp_data = data\n",
    "        \n",
    "        temp_data_test = temp_data.iloc[start:end]\n",
    "        \n",
    "        X_test = temp_data_test.iloc[:, :len(temp_data_test.columns)-1]\n",
    "        y_test = temp_data_test.iloc[:, len(temp_data_test.columns)-1:].values\n",
    "        \n",
    "        top = temp_data.iloc[0:start]\n",
    "        bottom = temp_data.iloc[end:len(temp_data)]\n",
    "        \n",
    "        temp_data_train = pd.concat([top,bottom])\n",
    "        \n",
    "        X_train = temp_data_test.iloc[:, :len(temp_data_train.columns)-1]\n",
    "        y_train = temp_data_test.iloc[:, len(temp_data_train.columns)-1:].values\n",
    "        \n",
    "        lda = LDA()\n",
    "        lda.fit(X_train, y_train)\n",
    "        y_pred = lda.predict(X_test)\n",
    "        \n",
    "        correct = 0.0\n",
    "        for pred,true in zip(y_pred, y_test):\n",
    "            if pred == true:\n",
    "                correct += 1 \n",
    "        results.append(correct/len(y_train))\n",
    "        \n",
    "    return results\n",
    "        \n",
    "results = k_fold(data, 5)\n",
    "results_new = k_fold(data_sub, 5)\n",
    "results_sqr = k_fold(data_new, 5)\n",
    "\n",
    "avg = np.mean(results)\n",
    "std = np.std(results)\n",
    "\n",
    "avg_new = np.mean(results_new)\n",
    "std_new = np.std(results_new)\n",
    "\n",
    "avg_sqr = np.mean(results_sqr)\n",
    "std_sqr = np.std(results_sqr)\n",
    "\n",
    "print(avg)\n",
    "print(std)\n",
    "\n",
    "results_random = []\n",
    "for i in range(5):\n",
    "    y_pred = [1 if y > 0.5 else 0 for y in np.random.rand(len(y_train),1)]\n",
    "    correct = 0.0\n",
    "    for pred,true in zip(y_pred, y_train):\n",
    "        if pred == true:\n",
    "            correct += 1\n",
    "    results_random.append(correct/len(y_train))\n",
    "\n",
    "avg_ran = np.mean(results_random)\n",
    "std_ran = np.std(results_random)\n",
    "\n",
    "import matplotlib.pyplot as plt\n",
    "N = 3\n",
    "lda_means = (avg, avg_log, avg_ran)\n",
    "lda_std = (std, std_log, std_ran)\n",
    "\n",
    "ind = np.arange(N)  # the x locations for the groups\n",
    "width = 0.35       # the width of the bars\n",
    "\n",
    "fig, ax = plt.subplots()\n",
    "rects1 = ax.bar(ind, lda_means, width, color='r', yerr=lda_std)\n",
    "\n",
    "# add some text for labels, title and axes ticks\n",
    "ax.set_ylabel('Scores')\n",
    "ax.set_title('Comparing Different Models on Wine Quality Dataset')\n",
    "ax.set_xticks(ind)\n",
    "ax.set_xticklabels(('LDA', 'Logistic Regression', 'Random'))\n",
    "\n",
    "plt.show()\n",
    "\n"
   ]
  },
  {
   "cell_type": "code",
   "execution_count": 6,
   "metadata": {},
   "outputs": [],
   "source": [
    "data = pd.read_csv(\"winequality-red.csv\", sep=';').astype('float32')"
   ]
  },
  {
   "cell_type": "code",
   "execution_count": 27,
   "metadata": {},
   "outputs": [
    {
     "name": "stdout",
     "output_type": "stream",
     "text": [
      "0.74375\n"
     ]
    }
   ],
   "source": [
    "X_train = data.iloc[:, :len(data.columns)-1]\n",
    "y_train = data.iloc[:, len(data.columns)-1:].values\n",
    "y_train = [0 if i < 6 else 1 for i in y_train]\n",
    "\n",
    "from sklearn.model_selection import train_test_split\n",
    "from sklearn.discriminant_analysis import LinearDiscriminantAnalysis\n",
    "from sklearn.decomposition import PCA\n",
    "\n",
    "pca = PCA(n_components=10)\n",
    "X_train = pca.fit_transform(X_train)\n",
    "\n",
    "X_train, X_test, y_train, y_test = train_test_split(X_train, y_train, test_size=0.20, random_state=38)\n",
    "\n",
    "clf = LinearDiscriminantAnalysis()\n",
    "clf.fit(X_train,y_train)\n",
    "mean = clf.score(X_test, y_test)\n",
    "print(mean)\n",
    "\n"
   ]
  },
  {
   "cell_type": "code",
   "execution_count": 38,
   "metadata": {},
   "outputs": [],
   "source": [
    "u0 = data\n",
    "u0 = data.loc[data['result']==0].iloc[:, :len(u0.columns)-1]"
   ]
  },
  {
   "cell_type": "code",
   "execution_count": 39,
   "metadata": {},
   "outputs": [],
   "source": [
    "u1 = data\n",
    "u1 = data.loc[data['result']==1].iloc[:, :len(u1.columns)-1]"
   ]
  },
  {
   "cell_type": "code",
   "execution_count": 40,
   "metadata": {},
   "outputs": [],
   "source": [
    "first_class_count = float(len(u0))\n",
    "second_class_count = float(len(u1))\n",
    "\n",
    "first_class_prob = first_class_count/len(y_train)\n",
    "second_class_prob = second_class_count/len(y_train)\n",
    "\n",
    "first_average = []\n",
    "second_average = []\n",
    "for column in u0:\n",
    "    column = u0[column].values\n",
    "    first_average.append(np.mean(column))\n",
    "\n",
    "for column in u1:\n",
    "    column = u1[column].values\n",
    "    second_average.append(np.mean(column))\n",
    "\n",
    "first_average = np.transpose(np.expand_dims(first_average, axis=1))\n",
    "second_average = np.transpose(np.expand_dims(second_average, axis=1))"
   ]
  },
  {
   "cell_type": "code",
   "execution_count": null,
   "metadata": {},
   "outputs": [],
   "source": []
  },
  {
   "cell_type": "code",
   "execution_count": 41,
   "metadata": {},
   "outputs": [],
   "source": [
    "# covariance_matrix_one = (1.0 / (len(y_train)-1)) * (u0 - u0.mean(axis=0)).T.dot(u0 - u0.mean(axis=0))\n",
    "# covariance_matrix_two = (1.0 / (len(y_train)-1)) * (u1 - u1.mean(axis=0)).T.dot(u1 - u1.mean(axis=0))\n",
    "# covariance_matrix = covariance_matrix_one + covariance_matrix_two\n",
    "# covariance_matrix\n",
    "\n",
    "cov0 = np.cov(np.transpose(u0))\n",
    "cov1 = np.cov(np.transpose(u1))\n",
    "covariance_matrix = cov1 + cov0"
   ]
  },
  {
   "cell_type": "code",
   "execution_count": null,
   "metadata": {},
   "outputs": [],
   "source": []
  },
  {
   "cell_type": "code",
   "execution_count": 48,
   "metadata": {},
   "outputs": [
    {
     "ename": "NameError",
     "evalue": "name 'second_class_prob' is not defined",
     "output_type": "error",
     "traceback": [
      "\u001b[0;31m---------------------------------------------------------------------------\u001b[0m",
      "\u001b[0;31mNameError\u001b[0m                                 Traceback (most recent call last)",
      "\u001b[0;32m<ipython-input-48-9e7bee4dfc24>\u001b[0m in \u001b[0;36m<module>\u001b[0;34m\u001b[0m\n\u001b[0;32m----> 1\u001b[0;31m \u001b[0mdivision\u001b[0m \u001b[0;34m=\u001b[0m \u001b[0msecond_class_prob\u001b[0m\u001b[0;34m/\u001b[0m\u001b[0mfirst_class_prob\u001b[0m\u001b[0;34m\u001b[0m\u001b[0;34m\u001b[0m\u001b[0m\n\u001b[0m\u001b[1;32m      2\u001b[0m \u001b[0minv_covariance_matrix\u001b[0m \u001b[0;34m=\u001b[0m \u001b[0mnp\u001b[0m\u001b[0;34m.\u001b[0m\u001b[0mlinalg\u001b[0m\u001b[0;34m.\u001b[0m\u001b[0minv\u001b[0m\u001b[0;34m(\u001b[0m\u001b[0mcovariance_matrix\u001b[0m\u001b[0;34m)\u001b[0m\u001b[0;34m\u001b[0m\u001b[0;34m\u001b[0m\u001b[0m\n\u001b[1;32m      3\u001b[0m \u001b[0mclass_two\u001b[0m \u001b[0;34m=\u001b[0m \u001b[0;36m0.5\u001b[0m\u001b[0;34m*\u001b[0m\u001b[0mfloat\u001b[0m\u001b[0;34m(\u001b[0m\u001b[0mnp\u001b[0m\u001b[0;34m.\u001b[0m\u001b[0mmatmul\u001b[0m\u001b[0;34m(\u001b[0m\u001b[0mnp\u001b[0m\u001b[0;34m.\u001b[0m\u001b[0mmatmul\u001b[0m\u001b[0;34m(\u001b[0m\u001b[0msecond_average\u001b[0m\u001b[0;34m,\u001b[0m\u001b[0minv_covariance_matrix\u001b[0m\u001b[0;34m)\u001b[0m\u001b[0;34m,\u001b[0m\u001b[0mnp\u001b[0m\u001b[0;34m.\u001b[0m\u001b[0mtranspose\u001b[0m\u001b[0;34m(\u001b[0m\u001b[0msecond_average\u001b[0m\u001b[0;34m)\u001b[0m\u001b[0;34m)\u001b[0m\u001b[0;34m)\u001b[0m\u001b[0;34m\u001b[0m\u001b[0;34m\u001b[0m\u001b[0m\n\u001b[1;32m      4\u001b[0m \u001b[0mclass_one\u001b[0m \u001b[0;34m=\u001b[0m \u001b[0;36m0.5\u001b[0m\u001b[0;34m*\u001b[0m\u001b[0mfloat\u001b[0m\u001b[0;34m(\u001b[0m\u001b[0mnp\u001b[0m\u001b[0;34m.\u001b[0m\u001b[0mmatmul\u001b[0m\u001b[0;34m(\u001b[0m\u001b[0mnp\u001b[0m\u001b[0;34m.\u001b[0m\u001b[0mmatmul\u001b[0m\u001b[0;34m(\u001b[0m\u001b[0mfirst_average\u001b[0m\u001b[0;34m,\u001b[0m\u001b[0minv_covariance_matrix\u001b[0m\u001b[0;34m)\u001b[0m\u001b[0;34m,\u001b[0m\u001b[0mnp\u001b[0m\u001b[0;34m.\u001b[0m\u001b[0mtranspose\u001b[0m\u001b[0;34m(\u001b[0m\u001b[0mfirst_average\u001b[0m\u001b[0;34m)\u001b[0m\u001b[0;34m)\u001b[0m\u001b[0;34m)\u001b[0m\u001b[0;34m\u001b[0m\u001b[0;34m\u001b[0m\u001b[0m\n",
      "\u001b[0;31mNameError\u001b[0m: name 'second_class_prob' is not defined"
     ]
    }
   ],
   "source": [
    "division = second_class_prob/first_class_prob\n",
    "inv_covariance_matrix = np.linalg.inv(covariance_matrix)\n",
    "class_two = 0.5*float(np.matmul(np.matmul(second_average,inv_covariance_matrix),np.transpose(second_average)))\n",
    "class_one = 0.5*float(np.matmul(np.matmul(first_average,inv_covariance_matrix),np.transpose(first_average)))"
   ]
  },
  {
   "cell_type": "code",
   "execution_count": 49,
   "metadata": {},
   "outputs": [
    {
     "ename": "NameError",
     "evalue": "name 'division' is not defined",
     "output_type": "error",
     "traceback": [
      "\u001b[0;31m---------------------------------------------------------------------------\u001b[0m",
      "\u001b[0;31mNameError\u001b[0m                                 Traceback (most recent call last)",
      "\u001b[0;32m<ipython-input-49-6526a620d96c>\u001b[0m in \u001b[0;36m<module>\u001b[0;34m\u001b[0m\n\u001b[0;32m----> 1\u001b[0;31m \u001b[0mw0\u001b[0m \u001b[0;34m=\u001b[0m \u001b[0mnp\u001b[0m\u001b[0;34m.\u001b[0m\u001b[0mlog\u001b[0m\u001b[0;34m(\u001b[0m\u001b[0mdivision\u001b[0m\u001b[0;34m)\u001b[0m \u001b[0;34m-\u001b[0m \u001b[0mclass_two\u001b[0m \u001b[0;34m+\u001b[0m \u001b[0mclass_one\u001b[0m\u001b[0;34m\u001b[0m\u001b[0;34m\u001b[0m\u001b[0m\n\u001b[0m\u001b[1;32m      2\u001b[0m \u001b[0mw1\u001b[0m \u001b[0;34m=\u001b[0m \u001b[0mnp\u001b[0m\u001b[0;34m.\u001b[0m\u001b[0mmatmul\u001b[0m\u001b[0;34m(\u001b[0m\u001b[0minv_covariance_matrix\u001b[0m\u001b[0;34m,\u001b[0m \u001b[0;34m(\u001b[0m\u001b[0mnp\u001b[0m\u001b[0;34m.\u001b[0m\u001b[0mtranspose\u001b[0m\u001b[0;34m(\u001b[0m\u001b[0msecond_average\u001b[0m\u001b[0;34m)\u001b[0m\u001b[0;34m-\u001b[0m\u001b[0mnp\u001b[0m\u001b[0;34m.\u001b[0m\u001b[0mtranspose\u001b[0m\u001b[0;34m(\u001b[0m\u001b[0mfirst_average\u001b[0m\u001b[0;34m)\u001b[0m\u001b[0;34m)\u001b[0m\u001b[0;34m)\u001b[0m\u001b[0;34m\u001b[0m\u001b[0;34m\u001b[0m\u001b[0m\n",
      "\u001b[0;31mNameError\u001b[0m: name 'division' is not defined"
     ]
    }
   ],
   "source": [
    "w0 = np.log(division) - class_two + class_one\n",
    "w1 = np.matmul(inv_covariance_matrix, (np.transpose(second_average)-np.transpose(first_average)))"
   ]
  },
  {
   "cell_type": "code",
   "execution_count": 50,
   "metadata": {},
   "outputs": [
    {
     "ename": "NameError",
     "evalue": "name 'w1' is not defined",
     "output_type": "error",
     "traceback": [
      "\u001b[0;31m---------------------------------------------------------------------------\u001b[0m",
      "\u001b[0;31mNameError\u001b[0m                                 Traceback (most recent call last)",
      "\u001b[0;32m<ipython-input-50-04af2efd47f5>\u001b[0m in \u001b[0;36m<module>\u001b[0;34m\u001b[0m\n\u001b[1;32m      1\u001b[0m \u001b[0mcorrect\u001b[0m \u001b[0;34m=\u001b[0m \u001b[0;36m0.0\u001b[0m\u001b[0;34m\u001b[0m\u001b[0;34m\u001b[0m\u001b[0m\n\u001b[1;32m      2\u001b[0m \u001b[0;32mfor\u001b[0m \u001b[0mx\u001b[0m\u001b[0;34m,\u001b[0m\u001b[0my\u001b[0m \u001b[0;32min\u001b[0m \u001b[0mzip\u001b[0m\u001b[0;34m(\u001b[0m\u001b[0mX_train\u001b[0m\u001b[0;34m.\u001b[0m\u001b[0mvalues\u001b[0m\u001b[0;34m,\u001b[0m \u001b[0my_train\u001b[0m\u001b[0;34m)\u001b[0m\u001b[0;34m:\u001b[0m\u001b[0;34m\u001b[0m\u001b[0;34m\u001b[0m\u001b[0m\n\u001b[0;32m----> 3\u001b[0;31m     \u001b[0mvalue\u001b[0m \u001b[0;34m=\u001b[0m \u001b[0mnp\u001b[0m\u001b[0;34m.\u001b[0m\u001b[0mdot\u001b[0m\u001b[0;34m(\u001b[0m\u001b[0mx\u001b[0m\u001b[0;34m,\u001b[0m\u001b[0mw1\u001b[0m\u001b[0;34m)\u001b[0m \u001b[0;34m+\u001b[0m \u001b[0mw0\u001b[0m\u001b[0;34m\u001b[0m\u001b[0;34m\u001b[0m\u001b[0m\n\u001b[0m\u001b[1;32m      4\u001b[0m     \u001b[0;32mif\u001b[0m \u001b[0mvalue\u001b[0m \u001b[0;34m>\u001b[0m \u001b[0;36m0\u001b[0m\u001b[0;34m:\u001b[0m\u001b[0;34m\u001b[0m\u001b[0;34m\u001b[0m\u001b[0m\n\u001b[1;32m      5\u001b[0m         \u001b[0mvalue\u001b[0m \u001b[0;34m=\u001b[0m \u001b[0;36m1\u001b[0m\u001b[0;34m\u001b[0m\u001b[0;34m\u001b[0m\u001b[0m\n",
      "\u001b[0;31mNameError\u001b[0m: name 'w1' is not defined"
     ]
    }
   ],
   "source": [
    "correct = 0.0\n",
    "for x,y in zip(X_train.values, y_train):\n",
    "    value = np.dot(x,w1) + w0\n",
    "    if value > 0:\n",
    "        value = 1\n",
    "    else:\n",
    "        value = 0\n",
    "    if y == value:\n",
    "        correct += 1\n",
    "    \n",
    "print(correct/len(y_train))"
   ]
  },
  {
   "cell_type": "code",
   "execution_count": 19,
   "metadata": {},
   "outputs": [
    {
     "ename": "NameError",
     "evalue": "name 'y_traincov1' is not defined",
     "output_type": "error",
     "traceback": [
      "\u001b[0;31m---------------------------------------------------------------------------\u001b[0m",
      "\u001b[0;31mNameError\u001b[0m                                 Traceback (most recent call last)",
      "\u001b[0;32m<ipython-input-19-7c4b295a87ad>\u001b[0m in \u001b[0;36m<module>\u001b[0;34m\u001b[0m\n\u001b[1;32m      3\u001b[0m \u001b[0my_train\u001b[0m \u001b[0;34m=\u001b[0m \u001b[0mdata\u001b[0m\u001b[0;34m.\u001b[0m\u001b[0miloc\u001b[0m\u001b[0;34m[\u001b[0m\u001b[0;34m:\u001b[0m\u001b[0;34m,\u001b[0m \u001b[0mlen\u001b[0m\u001b[0;34m(\u001b[0m\u001b[0mdata\u001b[0m\u001b[0;34m.\u001b[0m\u001b[0mcolumns\u001b[0m\u001b[0;34m)\u001b[0m\u001b[0;34m-\u001b[0m\u001b[0;36m1\u001b[0m\u001b[0;34m:\u001b[0m\u001b[0;34m]\u001b[0m\u001b[0;34m.\u001b[0m\u001b[0mvalues\u001b[0m\u001b[0;34m\u001b[0m\u001b[0;34m\u001b[0m\u001b[0m\n\u001b[1;32m      4\u001b[0m \u001b[0my_train\u001b[0m \u001b[0;34m=\u001b[0m \u001b[0;34m[\u001b[0m\u001b[0;36m0\u001b[0m \u001b[0;32mif\u001b[0m \u001b[0mi\u001b[0m \u001b[0;34m<\u001b[0m \u001b[0;36m6\u001b[0m \u001b[0;32melse\u001b[0m \u001b[0;36m1\u001b[0m \u001b[0;32mfor\u001b[0m \u001b[0mi\u001b[0m \u001b[0;32min\u001b[0m \u001b[0my_train\u001b[0m\u001b[0;34m]\u001b[0m\u001b[0;34m\u001b[0m\u001b[0;34m\u001b[0m\u001b[0m\n\u001b[0;32m----> 5\u001b[0;31m \u001b[0mdata\u001b[0m\u001b[0;34m[\u001b[0m\u001b[0;34m'quality'\u001b[0m\u001b[0;34m]\u001b[0m \u001b[0;34m=\u001b[0m \u001b[0my_traincov1\u001b[0m\u001b[0;34m\u001b[0m\u001b[0;34m\u001b[0m\u001b[0m\n\u001b[0m\u001b[1;32m      6\u001b[0m \u001b[0;34m\u001b[0m\u001b[0m\n\u001b[1;32m      7\u001b[0m \u001b[0mX_train_new\u001b[0m \u001b[0;34m=\u001b[0m \u001b[0mX_train\u001b[0m\u001b[0;34m.\u001b[0m\u001b[0mvalues\u001b[0m\u001b[0;34m\u001b[0m\u001b[0;34m\u001b[0m\u001b[0m\n",
      "\u001b[0;31mNameError\u001b[0m: name 'y_traincov1' is not defined"
     ]
    }
   ],
   "source": [
    "cov0 = np.cov(np.transpose(u0))\n",
    "cov1 = np.cov(np.transpose(u1))"
   ]
  },
  {
   "cell_type": "code",
   "execution_count": 37,
   "metadata": {},
   "outputs": [
    {
     "data": {
      "text/plain": [
       "(1599, 22)"
      ]
     },
     "execution_count": 37,
     "metadata": {},
     "output_type": "execute_result"
    }
   ],
   "source": [
    "data = pd.read_csv(\"winequality-red.csv\", sep=';').astype('float32')\n",
    "X_train = data.iloc[:, :len(data.columns)-1]\n",
    "y_train = data.iloc[:, len(data.columns)-1:].values\n",
    "y_train = [0 if i < 6 else 1 for i in y_train]\n",
    "data['quality'] = y_train\n",
    "\n",
    "X_train_new = X_train.values\n",
    "\n",
    "new_feat = []\n",
    "for column in X_train_new:\n",
    "    new_feat.append([x**2 for x in column])\n",
    "    \n",
    "X_train_new = pd.DataFrame(X_train_new)\n",
    "new_feat = pd.DataFrame(new_feat)\n",
    "\n",
    "X_train_new = pd.concat([X_train_new, new_feat], axis=1, sort=False)\n",
    "X_train_new.shape"
   ]
  },
  {
   "cell_type": "code",
   "execution_count": 1,
   "metadata": {},
   "outputs": [
    {
     "ename": "ModuleNotFoundError",
     "evalue": "No module named 'Wine'",
     "output_type": "error",
     "traceback": [
      "\u001b[0;31m---------------------------------------------------------------------------\u001b[0m",
      "\u001b[0;31mModuleNotFoundError\u001b[0m                       Traceback (most recent call last)",
      "\u001b[0;32m<ipython-input-1-ebd2ebf02d77>\u001b[0m in \u001b[0;36m<module>\u001b[0;34m\u001b[0m\n\u001b[1;32m      3\u001b[0m \u001b[0;32mimport\u001b[0m \u001b[0mmatplotlib\u001b[0m \u001b[0;32mas\u001b[0m \u001b[0mmat\u001b[0m\u001b[0;34m\u001b[0m\u001b[0;34m\u001b[0m\u001b[0m\n\u001b[1;32m      4\u001b[0m \u001b[0;32mfrom\u001b[0m \u001b[0mmath\u001b[0m \u001b[0;32mimport\u001b[0m \u001b[0mexp\u001b[0m\u001b[0;34m\u001b[0m\u001b[0;34m\u001b[0m\u001b[0m\n\u001b[0;32m----> 5\u001b[0;31m \u001b[0;32mimport\u001b[0m \u001b[0mWine\u001b[0m\u001b[0;34m\u001b[0m\u001b[0;34m\u001b[0m\u001b[0m\n\u001b[0m\u001b[1;32m      6\u001b[0m \u001b[0;32mimport\u001b[0m \u001b[0mrandom\u001b[0m\u001b[0;34m\u001b[0m\u001b[0;34m\u001b[0m\u001b[0m\n\u001b[1;32m      7\u001b[0m \u001b[0;32mfrom\u001b[0m \u001b[0mscipy\u001b[0m\u001b[0;34m.\u001b[0m\u001b[0mspecial\u001b[0m \u001b[0;32mimport\u001b[0m \u001b[0mexpit\u001b[0m\u001b[0;34m\u001b[0m\u001b[0;34m\u001b[0m\u001b[0m\n",
      "\u001b[0;31mModuleNotFoundError\u001b[0m: No module named 'Wine'"
     ]
    }
   ],
   "source": [
    "import numpy as np \n",
    "import pandas as pd \n",
    "import matplotlib as mat \n",
    "from math import exp\n",
    "import Wine\n",
    "import random\n",
    "from scipy.special import expit\n",
    "\n",
    "class LogisticRegression: \n",
    "\n",
    "    def __init__(self, data, LR, GradientDescents): \n",
    "        self.Input = data.iloc[:,:-1] #all columns except output\n",
    "        self.Output = data.iloc[:,-1] #output column\n",
    "        self.LR = LR #learning rate\n",
    "        self.GradientDescents = GradientDescents \n",
    "        self.Weight = 0\n",
    "\n",
    "    def sigmoid(self, prediction):\n",
    "        return expit(prediction) #avoid overflow errors\n",
    "\n",
    "    def gradientDescent(self, weights, input, output): #gradient descent\n",
    "\n",
    "        weights = np.array(weights)\n",
    "        sum = [0.0] * len(weights)\n",
    "    \n",
    "        for x in range(0,len(input.iloc[:,1])):\n",
    "            CalculationGradient = np.multiply(input.iloc[x,:], (np.subtract(output.iloc[x], self.sigmoid(np.dot(weights.T, input.iloc[x,:])))))\n",
    "            sum = np.add(sum,CalculationGradient)\n",
    "\n",
    "        print(\"Sum\", sum)\n",
    "        weights = weights + np.multiply(self.LR, sum)\n",
    "        \n",
    "        \n",
    "        return weights\n",
    "       \n",
    "    def W(self, training, resultTraining): #updates weights according to training and test set\n",
    "        w = [self.Weight]\n",
    "        for x in range (0,len(self.Input.columns)-1): #create array of weights\n",
    "            w.append(self.Weight) \n",
    "\n",
    "        for y in range (0, self.GradientDescents): \n",
    "            w = self.gradientDescent(w, training, resultTraining)\n",
    "\n",
    "        return w\n",
    "\n",
    "\n",
    "\n",
    "    def fit(self, input, output, LR, iterations): #train using all helper methods\n",
    "\n",
    "        weights = self.W(input, output)\n",
    "        result = []\n",
    "\n",
    "        test = 240\n",
    "        for x in range(0,test):\n",
    "            r = self.predict(self.Input.iloc[x,:], weights)\n",
    "\n",
    "            if (r > 0.5):\n",
    "                result.append(1)\n",
    "            else:\n",
    "                result.append(0)\n",
    "\n",
    "        accuracy = self.evaluate_acc(weights, result, output)\n",
    "        print(\"acc\", accuracy)\n",
    "        print(\"result\", result) \n",
    "        print(self.Output)\n",
    "        self.evaluate_acc(result, self.Output.iloc[0:x])\n",
    "\n",
    "\n",
    "#feature = column \n",
    "#weight = importance\n",
    "#play with weights to get bset possible\n",
    "\n",
    "    def predict(self, features, weights):\n",
    "        prediction = np.dot(features, weights)\n",
    "        return self.sigmoid(prediction)\n",
    "\n",
    "\n",
    "\n",
    "    def addInteractionTerm(self): #TASK 3\n",
    "\n",
    "        CitricPH = []\n",
    "        input = self.Input\n",
    "        CitricAcid = input[\"citric acid\"].values\n",
    "        PH = input[\"pH\"].values\n",
    "        \n",
    "        for x in range(0, input.shape[0]):\n",
    "            interact = CitricAcid[x] * PH[x]\n",
    "            CitricPH.append(interact)\n",
    "\n",
    "        input['CitricPH'] = CitricPH\n",
    "\n",
    "        self.input = input\n",
    "\n",
    "    def crossValidation(self, fold):\n",
    "       \n",
    "        rows = len(self.Input.iloc[:,1]) #total rows \n",
    "        Division = int(rows/fold) #depending on folds\n",
    "        FinalWeights = []\n",
    "        AccuracyArray = []\n",
    "\n",
    "        for x in range (0, rows, Division):\n",
    "            trainingSet = self.Input.drop(self.Input.index[x:x+Division]) #training set, varies according to fold \n",
    "            resultTraining = self.Output.drop(self.Output.index[x:x+Division])\n",
    "\n",
    "            print(\"Trainset\", trainingSet.shape[0])\n",
    "            print(\"resultset\", resultTraining.shape[0])\n",
    "            testSetInput = self.Input.iloc[x:x+Division] #held out test set\n",
    "            testSetOutput = self.Output.iloc[x:x+Division]\n",
    "\n",
    "            print(\"testSetIn\", testSetInput.shape[0])\n",
    "            print(\"testsetOut\", testSetOutput.shape[0])\n",
    "            w = self.W(trainingSet, resultTraining) #use training set to get weights\n",
    "            \n",
    "            accuracy = self.evaluate_acc(w, testSetInput, testSetOutput) #use weights to get prediction\n",
    "\n",
    "            FinalWeights.append(w)\n",
    "            AccuracyArray.append(accuracy)\n",
    "\n",
    "\n",
    "        print(\"weights\",  FinalWeights)\n",
    "        print(\"array\", AccuracyArray)\n",
    "        sum = 0\n",
    "        for x in (0,len(AccuracyArray)-1):  \n",
    "            sum += x\n",
    "\n",
    "        print (\"average: \", sum/5)\n",
    "\n",
    "        \n",
    "\n",
    "\n",
    "    def evaluate_acc(self, w, input, output):\n",
    "        correct = 0\n",
    "        for x in range(0, len(input.iloc[:,1])):\n",
    "            result = 0\n",
    "            r = []\n",
    "            prediction = self.predict(input.iloc[x,:], w)\n",
    "            if (prediction > 0.5):\n",
    "                result = 1\n",
    "            else:\n",
    "                result = 0\n",
    "            if (result == output.iloc[x]):\n",
    "                print(\"p\", result)\n",
    "                print(\"p2\", output.iloc[x])\n",
    "                correct += 1\n",
    "\n",
    "        print(\"correct\", correct)\n",
    "        print(\"len input\", len(input.iloc[:,1]))\n",
    "        return correct / (len(input.iloc[:,1])) * 100\n",
    "\n",
    "\n",
    "class Wine:\n",
    "    def wineBinary(self): #also drops all rows that contain statistical outliers according to Q1 Q3 and IQR\n",
    "        data = pd.read_csv(\"winequality-red.csv\", sep=';')\n",
    "        counter = 0\n",
    "        for i in data.iloc[:,-1]:\n",
    "            if (float(i) > 5.0):\n",
    "                data.iat[counter,-1] = 1\n",
    "            else:\n",
    "                data.iat[counter,-1] = 0\n",
    "\n",
    "            counter += 1\n",
    "\n",
    "        \n",
    "        for i in range(0,len(data.columns)-1):\n",
    "            counter = 0\n",
    "            Q1 = data.iloc[:,i].quantile(0.25)\n",
    "            Q3 = data.iloc[:,i].quantile(0.75)\n",
    "            IQR = float(\"{0:.2f}\".format(Q3-Q1))\n",
    "            counter = 0\n",
    "            for z in data.iloc[:,i].to_numpy():\n",
    "                \n",
    "                if (IQR == 0.0):\n",
    "                    break\n",
    "                if (z > Q3 + (1.5 * IQR) or z < Q1 - (1.5 * IQR)  ):\n",
    "                    try: \n",
    "                        data.drop([counter], inplace=True)\n",
    "                    except:\n",
    "                        continue\n",
    "                   \n",
    "\n",
    "                counter+=1\n",
    "        return data\n",
    "\n",
    "\n",
    "\n",
    "q = Wine()\n",
    "data = q.wineBinary()\n",
    "print(data.shape[0])\n",
    "obj = LogisticRegression(data,0.11,50)\n",
    "\n",
    "\n",
    "\n",
    "#obj.addInteractionTerm()\n",
    "#obj.fit(obj.Input, obj.Output, obj.LR, obj.GradientDescents)\n",
    "obj.crossValidation(5)\n",
    "#print(obj.Output.iloc[0:10])\n",
    "\n",
    "print(\"line break\")"
   ]
  },
  {
   "cell_type": "code",
   "execution_count": 16,
   "metadata": {},
   "outputs": [
    {
     "data": {
      "image/png": "[encoded data removed]",
      "text/plain": [
       "<Figure size 432x288 with 1 Axes>"
      ]
     },
     "metadata": {
      "needs_background": "light"
     },
     "output_type": "display_data"
    }
   ],
   "source": [
    "import matplotlib.pyplot as plt\n",
    "N = 5\n",
    "\n",
    "learn_rate_1 = [84.46601941747572, 90.29126213592234, 77.66990291262135, 87.37864077669903, 69.90291262135922]\n",
    "learn_rate_2 = [85.43689320388349, 87.37864077669903, 75.72815533980582, 78.64077669902912, 88.3495145631068]\n",
    "learn_rate_3 = [86.40776699029125, 87.37864077669903, 81.55339805825243, 76.69902912621359, 89.32038834951457]\n",
    "learn_rate_4 = [84.46601941747572, 87.37864077669903, 79.6116504854369, 86.40776699029125, 62.13592233009708]\n",
    "\n",
    "avg_1 = np.mean(learn_rate_1)\n",
    "avg_2 = np.mean(learn_rate_2)\n",
    "avg_3 = np.mean(learn_rate_3)\n",
    "avg_4 = np.mean(learn_rate_4)\n",
    "\n",
    "std_1 = np.std(learn_rate_1)\n",
    "std_2 = np.std(learn_rate_2)\n",
    "std_3 = np.std(learn_rate_3)\n",
    "std_4 = np.std(learn_rate_4)\n",
    "\n",
    "lda_means = (avg_1, avg_2, avg_3, avg_4, avg_ran*100)\n",
    "lda_std = (std_1, std_2, std_3, std_4, std_ran*100)\n",
    "\n",
    "ind = np.arange(N)  # the x locations for the groups\n",
    "width = 0.35       # the width of the bars\n",
    "\n",
    "fig, ax = plt.subplots()\n",
    "rects1 = ax.bar(ind, lda_means, width, color='r', yerr=lda_std)\n",
    "\n",
    "# add some text for labels, title and axes ticks\n",
    "ax.set_ylabel('Scores')\n",
    "ax.set_title('Comparing Logistic Regression Models with Different Learning rates on The Brea Dataset')\n",
    "ax.set_xticks(ind)\n",
    "ax.set_xticklabels(('0.05', '0.01', '0.5', '0.3', 'random'))\n",
    "\n",
    "plt.show()"
   ]
  },
  {
   "cell_type": "code",
   "execution_count": 30,
   "metadata": {},
   "outputs": [
    {
     "name": "stdout",
     "output_type": "stream",
     "text": [
      "Removing rows containing non-numerical or empty values...\n",
      "Converting to int, replacing last column with binary values...\n",
      "Removing outliers from the dataset...\n",
      "Replacing last column with binary values...\n",
      "Removing outliers from the dataset...\n"
     ]
    },
    {
     "data": {
      "image/png": "[encoded data removed]",
      "text/plain": [
       "<Figure size 432x288 with 1 Axes>"
      ]
     },
     "metadata": {
      "needs_background": "light"
     },
     "output_type": "display_data"
    }
   ],
   "source": [
    "import numpy as np\n",
    "import pandas as pd\n",
    "\n",
    "import DataPreprocessCancer as dpc\n",
    "import DataPreprocessWine as dpw\n",
    "import LinearDiscriminantAnalysis as lda\n",
    "from Logistic import LogisticRegression\n",
    "\n",
    "CANCER_DATA_DIR = 'breast-cancer-wisconsin.data'\n",
    "WINE_DATA_DIR = 'winequality-red.csv'\n",
    "\n",
    "cancer_matrix = np.loadtxt(open(CANCER_DATA_DIR, \"rb\"), dtype='str', delimiter=\",\")\n",
    "\n",
    "cancer_df = pd.DataFrame(cancer_matrix)\n",
    "pre_shape = cancer_df.shape\n",
    "print(\"Removing rows containing non-numerical or empty values...\")\n",
    "cancer_df = dpc.cleanValues(cancer_df)\n",
    "print(\"Converting to int, replacing last column with binary values...\")\n",
    "cancer_df = dpc.strToInt(cancer_df)\n",
    "cancer_df = dpc.replaceBinaryValues(cancer_df)\n",
    "print(\"Removing outliers from the dataset...\")\n",
    "cancer_df = dpc.removeOutliers(cancer_df)\n",
    "\n",
    "wine_df = pd.read_csv(WINE_DATA_DIR, sep=';')\n",
    "pre_shape = wine_df.shape\n",
    "print(\"Replacing last column with binary values...\")\n",
    "wine_df = dpw.wineBinary(wine_df)\n",
    "print(\"Removing outliers from the dataset...\")\n",
    "wine_df = dpw.removeOutliers(wine_df)\n",
    "\n",
    "\n",
    "# cancer_lda = k_fold(cancer_df, 5)\n",
    "# cancer_log = [0.8640776699029125, 0.8737864077669903, 0.8155339805825243, 0.7669902912621359, 0.8932038834951457]\n",
    "# cancer_ran = []\n",
    "# for i in range(5):\n",
    "#     y_pred = [1 if y > 0.5 else 0 for y in np.random.rand(len(cancer_df),1)]\n",
    "#     correct = 0.0\n",
    "#     for pred,true in zip(y_pred, y_train):\n",
    "#         if pred == true:\n",
    "#             correct += 1\n",
    "#     cancer_ran.append(correct/len(cancer_df))\n",
    "\n",
    "wine_lda = k_fold(wine_df, 5)\n",
    "wine_log = [0.5791666666666667, 0.5791666666666667, 0.5625, 0.6416666666666667, 0.5166666666666667, 0.6666666666666666]\n",
    "wine_ran = []\n",
    "for i in range(5):\n",
    "    y_pred = [1 if y > 0.5 else 0 for y in np.random.rand(len(cancer_df),1)]\n",
    "    correct = 0.0\n",
    "    for pred,true in zip(y_pred, y_train):\n",
    "        if pred == true:\n",
    "            correct += 1\n",
    "    wine_ran.append(correct/len(cancer_df))\n",
    "\n",
    "avg_cancer_lda = np.mean(wine_lda)\n",
    "avg_cancer_log = np.mean(wine_log)\n",
    "avg_cancer_ran = np.mean(wine_ran)\n",
    "\n",
    "std_cancer_lda = np.std(wine_lda)\n",
    "std_cancer_log = np.std(wine_log)\n",
    "std_cancer_ran = np.std(wine_ran)\n",
    "\n",
    "import matplotlib.pyplot as plt\n",
    "N = 3\n",
    "lda_means = (avg_cancer_lda, avg_cancer_log, avg_cancer_ran)\n",
    "lda_std = (std_cancer_lda, std_cancer_log, std_cancer_ran)\n",
    "\n",
    "ind = np.arange(N)  # the x locations for the groups\n",
    "width = 0.35       # the width of the bars\n",
    "\n",
    "fig, ax = plt.subplots()\n",
    "rects1 = ax.bar(ind, lda_means, width, color='r', yerr=lda_std)\n",
    "\n",
    "# add some text for labels, title and axes ticks\n",
    "ax.set_ylabel('Scores')\n",
    "ax.set_title('Comparing Different Models on Wine Quality Dataset')\n",
    "ax.set_xticks(ind)\n",
    "ax.set_xticklabels(('LDA', 'Logistic Regression', 'Random'))\n",
    "\n",
    "plt.show()"
   ]
  },
  {
   "cell_type": "code",
   "execution_count": null,
   "metadata": {},
   "outputs": [],
   "source": []
  }
 ],
 "metadata": {
  "kernelspec": {
   "display_name": "Python (BASEBALL)",
   "language": "python",
   "name": ".baseball"
  },
  "language_info": {
   "codemirror_mode": {
    "name": "ipython",
    "version": 3
   },
   "file_extension": ".py",
   "mimetype": "text/x-python",
   "name": "python",
   "nbconvert_exporter": "python",
   "pygments_lexer": "ipython3",
   "version": "3.7.1"
  }
 },
 "nbformat": 4,
 "nbformat_minor": 2
}
