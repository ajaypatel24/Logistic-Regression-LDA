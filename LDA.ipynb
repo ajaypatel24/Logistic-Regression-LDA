{
 "cells": [
  {
   "cell_type": "code",
   "execution_count": 1,
   "metadata": {},
   "outputs": [
    {
     "name": "stdout",
     "output_type": "stream",
     "text": [
      "3.7.1\n"
     ]
    }
   ],
   "source": [
    "import numpy as np\n",
    "import pandas as pd\n",
    "from platform import python_version\n",
    "\n",
    "print(python_version())"
   ]
  },
  {
   "cell_type": "code",
   "execution_count": 2,
   "metadata": {},
   "outputs": [],
   "source": [
    "class LDA():\n",
    "    def __init__(self):\n",
    "        self.w1 = None\n",
    "        self.w0 = None\n",
    "    \n",
    "    def fit(self, X_train, y_train):\n",
    "        data = X_train\n",
    "        data['quality'] = y_train\n",
    "        \n",
    "        u0 = data.loc[data['quality']==0].iloc[:, :len(data.columns)-1]\n",
    "        u1 = data.loc[data['quality']==1].iloc[:, :len(data.columns)-1]\n",
    "        \n",
    "        first_class_count = float(len(u0))\n",
    "        second_class_count = float(len(u1))\n",
    "        \n",
    "        first_class_prob = first_class_count/len(y_train)\n",
    "        second_class_prob = second_class_count/len(y_train)\n",
    "\n",
    "        first_average = []\n",
    "        second_average = []\n",
    "        for column in u0:\n",
    "            column = u0[column].values\n",
    "            first_average.append(np.mean(column))\n",
    "\n",
    "        for column in u1:\n",
    "            column = u1[column].values\n",
    "            second_average.append(np.mean(column))\n",
    "\n",
    "        first_average = np.transpose(np.expand_dims(first_average, axis=1))\n",
    "        second_average = np.transpose(np.expand_dims(second_average, axis=1))\n",
    "        \n",
    "        cov0 = np.cov(np.transpose(u0))\n",
    "        cov1 = np.cov(np.transpose(u1))\n",
    "        covariance_matrix = cov1 + cov0\n",
    "        \n",
    "        division = second_class_prob/first_class_prob\n",
    "        inv_covariance_matrix = np.linalg.inv(covariance_matrix)\n",
    "        class_two = 0.5*float(np.matmul(np.matmul(second_average,inv_covariance_matrix),np.transpose(second_average)))\n",
    "        class_one = 0.5*float(np.matmul(np.matmul(first_average,inv_covariance_matrix),np.transpose(first_average)))\n",
    "        \n",
    "        self.w0 = np.log(division) - class_two + class_one\n",
    "        self.w1 = np.matmul(inv_covariance_matrix, (np.transpose(second_average)-np.transpose(first_average)))\n",
    "        \n",
    "    def predict(self, X_test):\n",
    "        X_test = X_test.to_numpy()\n",
    "        return [1 if np.dot(x,self.w1) + self.w0 > 0 else 0 for x in X_test]"
   ]
  },
  {
   "cell_type": "code",
   "execution_count": 42,
   "metadata": {},
   "outputs": [
    {
     "name": "stdout",
     "output_type": "stream",
     "text": [
      "0.7498432601880878\n",
      "0.015151154825823888\n"
     ]
    },
    {
     "data": {
      "image/png": "[encoded data removed]",
      "text/plain": [
       "<Figure size 432x288 with 1 Axes>"
      ]
     },
     "metadata": {
      "needs_background": "light"
     },
     "output_type": "display_data"
    }
   ],
   "source": [
    "data = pd.read_csv(\"winequality-red.csv\", sep=';').astype('float32')\n",
    "X_train = data.iloc[:, :len(data.columns)-1]\n",
    "y_train = data.iloc[:, len(data.columns)-1:].values\n",
    "y_train = [0 if i < 6 else 1 for i in y_train]\n",
    "data['quality'] = y_train\n",
    "\n",
    "X_train_new = X_train.values\n",
    "\n",
    "new_feat = []\n",
    "for column in X_train_new:\n",
    "    new_feat.append([x**2 for x in column])\n",
    "    \n",
    "X_train_new = pd.DataFrame(X_train_new)\n",
    "new_feat = pd.DataFrame(new_feat)\n",
    "\n",
    "X_train_new = pd.concat([X_train_new, new_feat], axis=1, sort=False)\n",
    "data_new = X_train_new\n",
    "data_new['quality'] = y_train\n",
    "\n",
    "def k_fold(data, n):\n",
    "    results = []\n",
    "    results_new = []\n",
    "    fold_length = int(len(data)/5)\n",
    "    for i in range(n):\n",
    "        start = fold_length*i\n",
    "        end = start + fold_length\n",
    "        temp_data = data\n",
    "        \n",
    "        temp_data_test = temp_data.iloc[start:end]\n",
    "        \n",
    "        X_test = temp_data_test.iloc[:, :len(temp_data_test.columns)-1]\n",
    "        y_test = temp_data_test.iloc[:, len(temp_data_test.columns)-1:].values\n",
    "        \n",
    "        top = temp_data.iloc[0:start]\n",
    "        bottom = temp_data.iloc[end:len(temp_data)]\n",
    "        \n",
    "        temp_data_train = pd.concat([top,bottom])\n",
    "        \n",
    "        X_train = temp_data_test.iloc[:, :len(temp_data_train.columns)-1]\n",
    "        y_train = temp_data_test.iloc[:, len(temp_data_train.columns)-1:].values\n",
    "        \n",
    "        lda = LDA()\n",
    "        lda.fit(X_train, y_train)\n",
    "        y_pred = lda.predict(X_test)\n",
    "        \n",
    "        correct = 0.0\n",
    "        for pred,true in zip(y_pred, y_test):\n",
    "            if pred == true:\n",
    "                correct += 1 \n",
    "        results.append(correct/len(y_train))\n",
    "        \n",
    "    return results\n",
    "        \n",
    "results = k_fold(data, 5)\n",
    "results_new = k_fold(data_new, 5)\n",
    "\n",
    "avg = np.mean(results)\n",
    "std = np.std(results)\n",
    "\n",
    "avg_new = np.mean(results_new)\n",
    "std_new = np.std(results_new)\n",
    "\n",
    "print(avg)\n",
    "print(std)\n",
    "\n",
    "import matplotlib.pyplot as plt\n",
    "N = 2\n",
    "lda_means = (avg, avg_new)\n",
    "lda_std = (std, std_new)\n",
    "\n",
    "ind = np.arange(N)  # the x locations for the groups\n",
    "width = 0.35       # the width of the bars\n",
    "\n",
    "fig, ax = plt.subplots()\n",
    "rects1 = ax.bar(ind, lda_means, width, color='r', yerr=lda_std)\n",
    "\n",
    "# add some text for labels, title and axes ticks\n",
    "ax.set_ylabel('Scores')\n",
    "ax.set_title('Model Scores')\n",
    "ax.set_xticks(ind)\n",
    "ax.set_xticklabels(('LDA', 'Logistic Regression'))\n",
    "\n",
    "plt.show()"
   ]
  },
  {
   "cell_type": "code",
   "execution_count": 7,
   "metadata": {},
   "outputs": [],
   "source": [
    "data = pd.read_csv(\"winequality-red.csv\", sep=';').astype('float32')"
   ]
  },
  {
   "cell_type": "code",
   "execution_count": 27,
   "metadata": {},
   "outputs": [
    {
     "name": "stdout",
     "output_type": "stream",
     "text": [
      "0.74375\n"
     ]
    }
   ],
   "source": [
    "X_train = data.iloc[:, :len(data.columns)-1]\n",
    "y_train = data.iloc[:, len(data.columns)-1:].values\n",
    "y_train = [0 if i < 6 else 1 for i in y_train]\n",
    "\n",
    "from sklearn.model_selection import train_test_split\n",
    "from sklearn.discriminant_analysis import LinearDiscriminantAnalysis\n",
    "from sklearn.decomposition import PCA\n",
    "\n",
    "pca = PCA(n_components=10)\n",
    "X_train = pca.fit_transform(X_train)\n",
    "\n",
    "X_train, X_test, y_train, y_test = train_test_split(X_train, y_train, test_size=0.20, random_state=38)\n",
    "\n",
    "clf = LinearDiscriminantAnalysis()\n",
    "clf.fit(X_train,y_train)\n",
    "mean = clf.score(X_test, y_test)\n",
    "print(mean)\n",
    "\n"
   ]
  },
  {
   "cell_type": "code",
   "execution_count": 38,
   "metadata": {},
   "outputs": [],
   "source": [
    "u0 = data\n",
    "u0 = data.loc[data['result']==0].iloc[:, :len(u0.columns)-1]"
   ]
  },
  {
   "cell_type": "code",
   "execution_count": 39,
   "metadata": {},
   "outputs": [],
   "source": [
    "u1 = data\n",
    "u1 = data.loc[data['result']==1].iloc[:, :len(u1.columns)-1]"
   ]
  },
  {
   "cell_type": "code",
   "execution_count": 40,
   "metadata": {},
   "outputs": [],
   "source": [
    "first_class_count = float(len(u0))\n",
    "second_class_count = float(len(u1))\n",
    "\n",
    "first_class_prob = first_class_count/len(y_train)\n",
    "second_class_prob = second_class_count/len(y_train)\n",
    "\n",
    "first_average = []\n",
    "second_average = []\n",
    "for column in u0:\n",
    "    column = u0[column].values\n",
    "    first_average.append(np.mean(column))\n",
    "\n",
    "for column in u1:\n",
    "    column = u1[column].values\n",
    "    second_average.append(np.mean(column))\n",
    "\n",
    "first_average = np.transpose(np.expand_dims(first_average, axis=1))\n",
    "second_average = np.transpose(np.expand_dims(second_average, axis=1))"
   ]
  },
  {
   "cell_type": "code",
   "execution_count": null,
   "metadata": {},
   "outputs": [],
   "source": []
  },
  {
   "cell_type": "code",
   "execution_count": 41,
   "metadata": {},
   "outputs": [],
   "source": [
    "# covariance_matrix_one = (1.0 / (len(y_train)-1)) * (u0 - u0.mean(axis=0)).T.dot(u0 - u0.mean(axis=0))\n",
    "# covariance_matrix_two = (1.0 / (len(y_train)-1)) * (u1 - u1.mean(axis=0)).T.dot(u1 - u1.mean(axis=0))\n",
    "# covariance_matrix = covariance_matrix_one + covariance_matrix_two\n",
    "# covariance_matrix\n",
    "\n",
    "cov0 = np.cov(np.transpose(u0))\n",
    "cov1 = np.cov(np.transpose(u1))\n",
    "covariance_matrix = cov1 + cov0"
   ]
  },
  {
   "cell_type": "code",
   "execution_count": null,
   "metadata": {},
   "outputs": [],
   "source": []
  },
  {
   "cell_type": "code",
   "execution_count": 48,
   "metadata": {},
   "outputs": [
    {
     "ename": "NameError",
     "evalue": "name 'second_class_prob' is not defined",
     "output_type": "error",
     "traceback": [
      "\u001b[0;31m---------------------------------------------------------------------------\u001b[0m",
      "\u001b[0;31mNameError\u001b[0m                                 Traceback (most recent call last)",
      "\u001b[0;32m<ipython-input-48-9e7bee4dfc24>\u001b[0m in \u001b[0;36m<module>\u001b[0;34m\u001b[0m\n\u001b[0;32m----> 1\u001b[0;31m \u001b[0mdivision\u001b[0m \u001b[0;34m=\u001b[0m \u001b[0msecond_class_prob\u001b[0m\u001b[0;34m/\u001b[0m\u001b[0mfirst_class_prob\u001b[0m\u001b[0;34m\u001b[0m\u001b[0;34m\u001b[0m\u001b[0m\n\u001b[0m\u001b[1;32m      2\u001b[0m \u001b[0minv_covariance_matrix\u001b[0m \u001b[0;34m=\u001b[0m \u001b[0mnp\u001b[0m\u001b[0;34m.\u001b[0m\u001b[0mlinalg\u001b[0m\u001b[0;34m.\u001b[0m\u001b[0minv\u001b[0m\u001b[0;34m(\u001b[0m\u001b[0mcovariance_matrix\u001b[0m\u001b[0;34m)\u001b[0m\u001b[0;34m\u001b[0m\u001b[0;34m\u001b[0m\u001b[0m\n\u001b[1;32m      3\u001b[0m \u001b[0mclass_two\u001b[0m \u001b[0;34m=\u001b[0m \u001b[0;36m0.5\u001b[0m\u001b[0;34m*\u001b[0m\u001b[0mfloat\u001b[0m\u001b[0;34m(\u001b[0m\u001b[0mnp\u001b[0m\u001b[0;34m.\u001b[0m\u001b[0mmatmul\u001b[0m\u001b[0;34m(\u001b[0m\u001b[0mnp\u001b[0m\u001b[0;34m.\u001b[0m\u001b[0mmatmul\u001b[0m\u001b[0;34m(\u001b[0m\u001b[0msecond_average\u001b[0m\u001b[0;34m,\u001b[0m\u001b[0minv_covariance_matrix\u001b[0m\u001b[0;34m)\u001b[0m\u001b[0;34m,\u001b[0m\u001b[0mnp\u001b[0m\u001b[0;34m.\u001b[0m\u001b[0mtranspose\u001b[0m\u001b[0;34m(\u001b[0m\u001b[0msecond_average\u001b[0m\u001b[0;34m)\u001b[0m\u001b[0;34m)\u001b[0m\u001b[0;34m)\u001b[0m\u001b[0;34m\u001b[0m\u001b[0;34m\u001b[0m\u001b[0m\n\u001b[1;32m      4\u001b[0m \u001b[0mclass_one\u001b[0m \u001b[0;34m=\u001b[0m \u001b[0;36m0.5\u001b[0m\u001b[0;34m*\u001b[0m\u001b[0mfloat\u001b[0m\u001b[0;34m(\u001b[0m\u001b[0mnp\u001b[0m\u001b[0;34m.\u001b[0m\u001b[0mmatmul\u001b[0m\u001b[0;34m(\u001b[0m\u001b[0mnp\u001b[0m\u001b[0;34m.\u001b[0m\u001b[0mmatmul\u001b[0m\u001b[0;34m(\u001b[0m\u001b[0mfirst_average\u001b[0m\u001b[0;34m,\u001b[0m\u001b[0minv_covariance_matrix\u001b[0m\u001b[0;34m)\u001b[0m\u001b[0;34m,\u001b[0m\u001b[0mnp\u001b[0m\u001b[0;34m.\u001b[0m\u001b[0mtranspose\u001b[0m\u001b[0;34m(\u001b[0m\u001b[0mfirst_average\u001b[0m\u001b[0;34m)\u001b[0m\u001b[0;34m)\u001b[0m\u001b[0;34m)\u001b[0m\u001b[0;34m\u001b[0m\u001b[0;34m\u001b[0m\u001b[0m\n",
      "\u001b[0;31mNameError\u001b[0m: name 'second_class_prob' is not defined"
     ]
    }
   ],
   "source": [
    "division = second_class_prob/first_class_prob\n",
    "inv_covariance_matrix = np.linalg.inv(covariance_matrix)\n",
    "class_two = 0.5*float(np.matmul(np.matmul(second_average,inv_covariance_matrix),np.transpose(second_average)))\n",
    "class_one = 0.5*float(np.matmul(np.matmul(first_average,inv_covariance_matrix),np.transpose(first_average)))"
   ]
  },
  {
   "cell_type": "code",
   "execution_count": 49,
   "metadata": {},
   "outputs": [
    {
     "ename": "NameError",
     "evalue": "name 'division' is not defined",
     "output_type": "error",
     "traceback": [
      "\u001b[0;31m---------------------------------------------------------------------------\u001b[0m",
      "\u001b[0;31mNameError\u001b[0m                                 Traceback (most recent call last)",
      "\u001b[0;32m<ipython-input-49-6526a620d96c>\u001b[0m in \u001b[0;36m<module>\u001b[0;34m\u001b[0m\n\u001b[0;32m----> 1\u001b[0;31m \u001b[0mw0\u001b[0m \u001b[0;34m=\u001b[0m \u001b[0mnp\u001b[0m\u001b[0;34m.\u001b[0m\u001b[0mlog\u001b[0m\u001b[0;34m(\u001b[0m\u001b[0mdivision\u001b[0m\u001b[0;34m)\u001b[0m \u001b[0;34m-\u001b[0m \u001b[0mclass_two\u001b[0m \u001b[0;34m+\u001b[0m \u001b[0mclass_one\u001b[0m\u001b[0;34m\u001b[0m\u001b[0;34m\u001b[0m\u001b[0m\n\u001b[0m\u001b[1;32m      2\u001b[0m \u001b[0mw1\u001b[0m \u001b[0;34m=\u001b[0m \u001b[0mnp\u001b[0m\u001b[0;34m.\u001b[0m\u001b[0mmatmul\u001b[0m\u001b[0;34m(\u001b[0m\u001b[0minv_covariance_matrix\u001b[0m\u001b[0;34m,\u001b[0m \u001b[0;34m(\u001b[0m\u001b[0mnp\u001b[0m\u001b[0;34m.\u001b[0m\u001b[0mtranspose\u001b[0m\u001b[0;34m(\u001b[0m\u001b[0msecond_average\u001b[0m\u001b[0;34m)\u001b[0m\u001b[0;34m-\u001b[0m\u001b[0mnp\u001b[0m\u001b[0;34m.\u001b[0m\u001b[0mtranspose\u001b[0m\u001b[0;34m(\u001b[0m\u001b[0mfirst_average\u001b[0m\u001b[0;34m)\u001b[0m\u001b[0;34m)\u001b[0m\u001b[0;34m)\u001b[0m\u001b[0;34m\u001b[0m\u001b[0;34m\u001b[0m\u001b[0m\n",
      "\u001b[0;31mNameError\u001b[0m: name 'division' is not defined"
     ]
    }
   ],
   "source": [
    "w0 = np.log(division) - class_two + class_one\n",
    "w1 = np.matmul(inv_covariance_matrix, (np.transpose(second_average)-np.transpose(first_average)))"
   ]
  },
  {
   "cell_type": "code",
   "execution_count": 50,
   "metadata": {},
   "outputs": [
    {
     "ename": "NameError",
     "evalue": "name 'w1' is not defined",
     "output_type": "error",
     "traceback": [
      "\u001b[0;31m---------------------------------------------------------------------------\u001b[0m",
      "\u001b[0;31mNameError\u001b[0m                                 Traceback (most recent call last)",
      "\u001b[0;32m<ipython-input-50-04af2efd47f5>\u001b[0m in \u001b[0;36m<module>\u001b[0;34m\u001b[0m\n\u001b[1;32m      1\u001b[0m \u001b[0mcorrect\u001b[0m \u001b[0;34m=\u001b[0m \u001b[0;36m0.0\u001b[0m\u001b[0;34m\u001b[0m\u001b[0;34m\u001b[0m\u001b[0m\n\u001b[1;32m      2\u001b[0m \u001b[0;32mfor\u001b[0m \u001b[0mx\u001b[0m\u001b[0;34m,\u001b[0m\u001b[0my\u001b[0m \u001b[0;32min\u001b[0m \u001b[0mzip\u001b[0m\u001b[0;34m(\u001b[0m\u001b[0mX_train\u001b[0m\u001b[0;34m.\u001b[0m\u001b[0mvalues\u001b[0m\u001b[0;34m,\u001b[0m \u001b[0my_train\u001b[0m\u001b[0;34m)\u001b[0m\u001b[0;34m:\u001b[0m\u001b[0;34m\u001b[0m\u001b[0;34m\u001b[0m\u001b[0m\n\u001b[0;32m----> 3\u001b[0;31m     \u001b[0mvalue\u001b[0m \u001b[0;34m=\u001b[0m \u001b[0mnp\u001b[0m\u001b[0;34m.\u001b[0m\u001b[0mdot\u001b[0m\u001b[0;34m(\u001b[0m\u001b[0mx\u001b[0m\u001b[0;34m,\u001b[0m\u001b[0mw1\u001b[0m\u001b[0;34m)\u001b[0m \u001b[0;34m+\u001b[0m \u001b[0mw0\u001b[0m\u001b[0;34m\u001b[0m\u001b[0;34m\u001b[0m\u001b[0m\n\u001b[0m\u001b[1;32m      4\u001b[0m     \u001b[0;32mif\u001b[0m \u001b[0mvalue\u001b[0m \u001b[0;34m>\u001b[0m \u001b[0;36m0\u001b[0m\u001b[0;34m:\u001b[0m\u001b[0;34m\u001b[0m\u001b[0;34m\u001b[0m\u001b[0m\n\u001b[1;32m      5\u001b[0m         \u001b[0mvalue\u001b[0m \u001b[0;34m=\u001b[0m \u001b[0;36m1\u001b[0m\u001b[0;34m\u001b[0m\u001b[0;34m\u001b[0m\u001b[0m\n",
      "\u001b[0;31mNameError\u001b[0m: name 'w1' is not defined"
     ]
    }
   ],
   "source": [
    "correct = 0.0\n",
    "for x,y in zip(X_train.values, y_train):\n",
    "    value = np.dot(x,w1) + w0\n",
    "    if value > 0:\n",
    "        value = 1\n",
    "    else:\n",
    "        value = 0\n",
    "    if y == value:\n",
    "        correct += 1\n",
    "    \n",
    "print(correct/len(y_train))"
   ]
  },
  {
   "cell_type": "code",
   "execution_count": 19,
   "metadata": {},
   "outputs": [
    {
     "ename": "NameError",
     "evalue": "name 'y_traincov1' is not defined",
     "output_type": "error",
     "traceback": [
      "\u001b[0;31m---------------------------------------------------------------------------\u001b[0m",
      "\u001b[0;31mNameError\u001b[0m                                 Traceback (most recent call last)",
      "\u001b[0;32m<ipython-input-19-7c4b295a87ad>\u001b[0m in \u001b[0;36m<module>\u001b[0;34m\u001b[0m\n\u001b[1;32m      3\u001b[0m \u001b[0my_train\u001b[0m \u001b[0;34m=\u001b[0m \u001b[0mdata\u001b[0m\u001b[0;34m.\u001b[0m\u001b[0miloc\u001b[0m\u001b[0;34m[\u001b[0m\u001b[0;34m:\u001b[0m\u001b[0;34m,\u001b[0m \u001b[0mlen\u001b[0m\u001b[0;34m(\u001b[0m\u001b[0mdata\u001b[0m\u001b[0;34m.\u001b[0m\u001b[0mcolumns\u001b[0m\u001b[0;34m)\u001b[0m\u001b[0;34m-\u001b[0m\u001b[0;36m1\u001b[0m\u001b[0;34m:\u001b[0m\u001b[0;34m]\u001b[0m\u001b[0;34m.\u001b[0m\u001b[0mvalues\u001b[0m\u001b[0;34m\u001b[0m\u001b[0;34m\u001b[0m\u001b[0m\n\u001b[1;32m      4\u001b[0m \u001b[0my_train\u001b[0m \u001b[0;34m=\u001b[0m \u001b[0;34m[\u001b[0m\u001b[0;36m0\u001b[0m \u001b[0;32mif\u001b[0m \u001b[0mi\u001b[0m \u001b[0;34m<\u001b[0m \u001b[0;36m6\u001b[0m \u001b[0;32melse\u001b[0m \u001b[0;36m1\u001b[0m \u001b[0;32mfor\u001b[0m \u001b[0mi\u001b[0m \u001b[0;32min\u001b[0m \u001b[0my_train\u001b[0m\u001b[0;34m]\u001b[0m\u001b[0;34m\u001b[0m\u001b[0;34m\u001b[0m\u001b[0m\n\u001b[0;32m----> 5\u001b[0;31m \u001b[0mdata\u001b[0m\u001b[0;34m[\u001b[0m\u001b[0;34m'quality'\u001b[0m\u001b[0;34m]\u001b[0m \u001b[0;34m=\u001b[0m \u001b[0my_traincov1\u001b[0m\u001b[0;34m\u001b[0m\u001b[0;34m\u001b[0m\u001b[0m\n\u001b[0m\u001b[1;32m      6\u001b[0m \u001b[0;34m\u001b[0m\u001b[0m\n\u001b[1;32m      7\u001b[0m \u001b[0mX_train_new\u001b[0m \u001b[0;34m=\u001b[0m \u001b[0mX_train\u001b[0m\u001b[0;34m.\u001b[0m\u001b[0mvalues\u001b[0m\u001b[0;34m\u001b[0m\u001b[0;34m\u001b[0m\u001b[0m\n",
      "\u001b[0;31mNameError\u001b[0m: name 'y_traincov1' is not defined"
     ]
    }
   ],
   "source": [
    "cov0 = np.cov(np.transpose(u0))\n",
    "cov1 = np.cov(np.transpose(u1))"
   ]
  },
  {
   "cell_type": "code",
   "execution_count": 37,
   "metadata": {},
   "outputs": [
    {
     "data": {
      "text/plain": [
       "(1599, 22)"
      ]
     },
     "execution_count": 37,
     "metadata": {},
     "output_type": "execute_result"
    }
   ],
   "source": [
    "data = pd.read_csv(\"winequality-red.csv\", sep=';').astype('float32')\n",
    "X_train = data.iloc[:, :len(data.columns)-1]\n",
    "y_train = data.iloc[:, len(data.columns)-1:].values\n",
    "y_train = [0 if i < 6 else 1 for i in y_train]\n",
    "data['quality'] = y_train\n",
    "\n",
    "X_train_new = X_train.values\n",
    "\n",
    "new_feat = []\n",
    "for column in X_train_new:\n",
    "    new_feat.append([x**2 for x in column])\n",
    "    \n",
    "X_train_new = pd.DataFrame(X_train_new)\n",
    "new_feat = pd.DataFrame(new_feat)\n",
    "\n",
    "X_train_new = pd.concat([X_train_new, new_feat], axis=1, sort=False)\n",
    "X_train_new.shape"
   ]
  },
  {
   "cell_type": "code",
   "execution_count": null,
   "metadata": {},
   "outputs": [],
   "source": []
  }
 ],
 "metadata": {
  "kernelspec": {
   "display_name": "Python (BASEBALL)",
   "language": "python",
   "name": ".baseball"
  },
  "language_info": {
   "codemirror_mode": {
    "name": "ipython",
    "version": 3
   },
   "file_extension": ".py",
   "mimetype": "text/x-python",
   "name": "python",
   "nbconvert_exporter": "python",
   "pygments_lexer": "ipython3",
   "version": "3.7.1"
  }
 },
 "nbformat": 4,
 "nbformat_minor": 2
}
